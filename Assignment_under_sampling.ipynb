{
 "cells": [
  {
   "cell_type": "code",
   "execution_count": 1,
   "id": "f64d0ad9",
   "metadata": {},
   "outputs": [],
   "source": [
    "import pandas as pd #useful for loading the dataset\n",
    "import numpy as np #to perform array\n",
    "from matplotlib import pyplot # to visulaise data\n",
    "from sklearn.model_selection import train_test_split\n",
    "from sklearn.linear_model import LogisticRegression\n",
    "from sklearn.metrics import accuracy_score"
   ]
  },
  {
   "cell_type": "code",
   "execution_count": 2,
   "id": "f155330f",
   "metadata": {},
   "outputs": [
    {
     "data": {
      "text/html": [
       "<div>\n",
       "<style scoped>\n",
       "    .dataframe tbody tr th:only-of-type {\n",
       "        vertical-align: middle;\n",
       "    }\n",
       "\n",
       "    .dataframe tbody tr th {\n",
       "        vertical-align: top;\n",
       "    }\n",
       "\n",
       "    .dataframe thead th {\n",
       "        text-align: right;\n",
       "    }\n",
       "</style>\n",
       "<table border=\"1\" class=\"dataframe\">\n",
       "  <thead>\n",
       "    <tr style=\"text-align: right;\">\n",
       "      <th></th>\n",
       "      <th>variable_0</th>\n",
       "      <th>variable_1</th>\n",
       "      <th>variable_2</th>\n",
       "      <th>variable_3</th>\n",
       "      <th>variable_4</th>\n",
       "      <th>variable_5</th>\n",
       "      <th>variable_6</th>\n",
       "      <th>variable_7</th>\n",
       "      <th>variable_8</th>\n",
       "      <th>variable_9</th>\n",
       "      <th>class_col</th>\n",
       "    </tr>\n",
       "  </thead>\n",
       "  <tbody>\n",
       "    <tr>\n",
       "      <th>0</th>\n",
       "      <td>1.616623</td>\n",
       "      <td>-0.909091</td>\n",
       "      <td>3.0</td>\n",
       "      <td>-0.041629</td>\n",
       "      <td>0.284188</td>\n",
       "      <td>0.166667</td>\n",
       "      <td>0.0</td>\n",
       "      <td>0.0</td>\n",
       "      <td>1.0</td>\n",
       "      <td>2.0</td>\n",
       "      <td>0.0</td>\n",
       "    </tr>\n",
       "    <tr>\n",
       "      <th>1</th>\n",
       "      <td>-0.029310</td>\n",
       "      <td>1.500000</td>\n",
       "      <td>0.0</td>\n",
       "      <td>0.551353</td>\n",
       "      <td>-0.515812</td>\n",
       "      <td>0.166667</td>\n",
       "      <td>0.0</td>\n",
       "      <td>-0.5</td>\n",
       "      <td>0.0</td>\n",
       "      <td>0.0</td>\n",
       "      <td>0.0</td>\n",
       "    </tr>\n",
       "    <tr>\n",
       "      <th>2</th>\n",
       "      <td>1.598362</td>\n",
       "      <td>0.227273</td>\n",
       "      <td>0.0</td>\n",
       "      <td>-0.280171</td>\n",
       "      <td>-0.385897</td>\n",
       "      <td>-1.166667</td>\n",
       "      <td>0.0</td>\n",
       "      <td>-0.5</td>\n",
       "      <td>0.0</td>\n",
       "      <td>0.0</td>\n",
       "      <td>0.0</td>\n",
       "    </tr>\n",
       "    <tr>\n",
       "      <th>3</th>\n",
       "      <td>0.355677</td>\n",
       "      <td>0.954545</td>\n",
       "      <td>0.0</td>\n",
       "      <td>-0.101158</td>\n",
       "      <td>0.158718</td>\n",
       "      <td>-0.333333</td>\n",
       "      <td>0.0</td>\n",
       "      <td>0.0</td>\n",
       "      <td>0.0</td>\n",
       "      <td>0.0</td>\n",
       "      <td>0.0</td>\n",
       "    </tr>\n",
       "    <tr>\n",
       "      <th>4</th>\n",
       "      <td>-0.291358</td>\n",
       "      <td>0.590909</td>\n",
       "      <td>0.0</td>\n",
       "      <td>-0.299727</td>\n",
       "      <td>0.696838</td>\n",
       "      <td>0.000000</td>\n",
       "      <td>0.0</td>\n",
       "      <td>0.5</td>\n",
       "      <td>0.0</td>\n",
       "      <td>0.0</td>\n",
       "      <td>0.0</td>\n",
       "    </tr>\n",
       "  </tbody>\n",
       "</table>\n",
       "</div>"
      ],
      "text/plain": [
       "   variable_0  variable_1  variable_2  variable_3  variable_4  variable_5  \\\n",
       "0    1.616623   -0.909091         3.0   -0.041629    0.284188    0.166667   \n",
       "1   -0.029310    1.500000         0.0    0.551353   -0.515812    0.166667   \n",
       "2    1.598362    0.227273         0.0   -0.280171   -0.385897   -1.166667   \n",
       "3    0.355677    0.954545         0.0   -0.101158    0.158718   -0.333333   \n",
       "4   -0.291358    0.590909         0.0   -0.299727    0.696838    0.000000   \n",
       "\n",
       "   variable_6  variable_7  variable_8  variable_9  class_col  \n",
       "0         0.0         0.0         1.0         2.0        0.0  \n",
       "1         0.0        -0.5         0.0         0.0        0.0  \n",
       "2         0.0        -0.5         0.0         0.0        0.0  \n",
       "3         0.0         0.0         0.0         0.0        0.0  \n",
       "4         0.0         0.5         0.0         0.0        0.0  "
      ]
     },
     "execution_count": 2,
     "metadata": {},
     "output_type": "execute_result"
    }
   ],
   "source": [
    "train_data=pd.read_csv(\"Train.csv\")\n",
    "train_data.head(5)"
   ]
  },
  {
   "cell_type": "code",
   "execution_count": 3,
   "id": "5ec09b5d",
   "metadata": {},
   "outputs": [
    {
     "data": {
      "text/plain": [
       "array([[ 1.61662315, -0.90909091,  3.        , ...,  0.        ,\n",
       "         1.        ,  2.        ],\n",
       "       [-0.02931037,  1.5       ,  0.        , ..., -0.5       ,\n",
       "         0.        ,  0.        ],\n",
       "       [ 1.59836175,  0.22727273,  0.        , ..., -0.5       ,\n",
       "         0.        ,  0.        ],\n",
       "       ...,\n",
       "       [ 0.12700466,  0.27272727,  0.        , ...,  0.        ,\n",
       "         0.        ,  3.        ],\n",
       "       [ 0.01279284, -0.72727273,  0.        , ...,  0.        ,\n",
       "         0.        ,  0.        ],\n",
       "       [ 0.2971423 ,  0.77272727,  0.        , ...,  0.        ,\n",
       "         0.        ,  0.        ]])"
      ]
     },
     "execution_count": 3,
     "metadata": {},
     "output_type": "execute_result"
    }
   ],
   "source": [
    "X = train_data.iloc[0:100000, :-1].values\n",
    "X"
   ]
  },
  {
   "cell_type": "code",
   "execution_count": 4,
   "id": "14d29bc1",
   "metadata": {},
   "outputs": [
    {
     "data": {
      "text/plain": [
       "array([0., 0., 0., ..., 0., 0., 0.])"
      ]
     },
     "execution_count": 4,
     "metadata": {},
     "output_type": "execute_result"
    }
   ],
   "source": [
    "Y = train_data.iloc[0:100000, -1].values\n",
    "Y"
   ]
  },
  {
   "cell_type": "code",
   "execution_count": 5,
   "id": "b37cf0a6",
   "metadata": {},
   "outputs": [],
   "source": [
    "from sklearn.model_selection import train_test_split\n",
    "X_train, X_test, Y_train, Y_test = train_test_split(X, Y, test_size = 0.2, random_state = 0)"
   ]
  },
  {
   "cell_type": "code",
   "execution_count": 12,
   "id": "76def0a4",
   "metadata": {},
   "outputs": [],
   "source": [
    "Higher = train_data[train_data.class_col == 1]\n",
    "Lower = train_data[train_data.class_col == 0]"
   ]
  },
  {
   "cell_type": "code",
   "execution_count": 14,
   "id": "811c6847",
   "metadata": {},
   "outputs": [
    {
     "name": "stdout",
     "output_type": "stream",
     "text": [
      "(6651, 11)\n",
      "(93349, 11)\n"
     ]
    }
   ],
   "source": [
    "print(Higher.shape)\n",
    "print(Lower.shape)"
   ]
  },
  {
   "cell_type": "code",
   "execution_count": 130,
   "id": "803fa047",
   "metadata": {},
   "outputs": [],
   "source": [
    "Lower_new = Lower.sample(n=60000)\n"
   ]
  },
  {
   "cell_type": "code",
   "execution_count": 131,
   "id": "df5632eb",
   "metadata": {},
   "outputs": [],
   "source": [
    "new_dataset = pd.concat([Higher, Lower_new], axis=0)"
   ]
  },
  {
   "cell_type": "code",
   "execution_count": 132,
   "id": "d844336d",
   "metadata": {
    "scrolled": true
   },
   "outputs": [
    {
     "data": {
      "text/plain": [
       "0.0    60000\n",
       "1.0     6651\n",
       "Name: class_col, dtype: int64"
      ]
     },
     "execution_count": 132,
     "metadata": {},
     "output_type": "execute_result"
    }
   ],
   "source": [
    "new_dataset['class_col'].value_counts()"
   ]
  },
  {
   "cell_type": "code",
   "execution_count": 133,
   "id": "5949081f",
   "metadata": {
    "scrolled": true
   },
   "outputs": [
    {
     "data": {
      "text/html": [
       "<div>\n",
       "<style scoped>\n",
       "    .dataframe tbody tr th:only-of-type {\n",
       "        vertical-align: middle;\n",
       "    }\n",
       "\n",
       "    .dataframe tbody tr th {\n",
       "        vertical-align: top;\n",
       "    }\n",
       "\n",
       "    .dataframe thead th {\n",
       "        text-align: right;\n",
       "    }\n",
       "</style>\n",
       "<table border=\"1\" class=\"dataframe\">\n",
       "  <thead>\n",
       "    <tr style=\"text-align: right;\">\n",
       "      <th></th>\n",
       "      <th>variable_0</th>\n",
       "      <th>variable_1</th>\n",
       "      <th>variable_2</th>\n",
       "      <th>variable_3</th>\n",
       "      <th>variable_4</th>\n",
       "      <th>variable_5</th>\n",
       "      <th>variable_6</th>\n",
       "      <th>variable_7</th>\n",
       "      <th>variable_8</th>\n",
       "      <th>variable_9</th>\n",
       "      <th>class_col</th>\n",
       "    </tr>\n",
       "  </thead>\n",
       "  <tbody>\n",
       "    <tr>\n",
       "      <th>13</th>\n",
       "      <td>1.598362</td>\n",
       "      <td>-0.818182</td>\n",
       "      <td>0.0</td>\n",
       "      <td>-0.523490</td>\n",
       "      <td>-0.180769</td>\n",
       "      <td>-1.333333</td>\n",
       "      <td>0.0</td>\n",
       "      <td>-0.5</td>\n",
       "      <td>0.0</td>\n",
       "      <td>4.0</td>\n",
       "      <td>1.0</td>\n",
       "    </tr>\n",
       "    <tr>\n",
       "      <th>15</th>\n",
       "      <td>1.398450</td>\n",
       "      <td>-0.681818</td>\n",
       "      <td>4.0</td>\n",
       "      <td>-0.076944</td>\n",
       "      <td>-0.061111</td>\n",
       "      <td>-0.333333</td>\n",
       "      <td>3.0</td>\n",
       "      <td>-0.5</td>\n",
       "      <td>2.0</td>\n",
       "      <td>3.0</td>\n",
       "      <td>1.0</td>\n",
       "    </tr>\n",
       "    <tr>\n",
       "      <th>16</th>\n",
       "      <td>0.186068</td>\n",
       "      <td>0.000000</td>\n",
       "      <td>0.0</td>\n",
       "      <td>1981.640568</td>\n",
       "      <td>-0.744872</td>\n",
       "      <td>0.333333</td>\n",
       "      <td>0.0</td>\n",
       "      <td>0.0</td>\n",
       "      <td>0.0</td>\n",
       "      <td>0.0</td>\n",
       "      <td>1.0</td>\n",
       "    </tr>\n",
       "    <tr>\n",
       "      <th>44</th>\n",
       "      <td>1.319824</td>\n",
       "      <td>0.454545</td>\n",
       "      <td>2.0</td>\n",
       "      <td>-0.210600</td>\n",
       "      <td>0.317692</td>\n",
       "      <td>0.166667</td>\n",
       "      <td>0.0</td>\n",
       "      <td>-0.5</td>\n",
       "      <td>1.0</td>\n",
       "      <td>2.0</td>\n",
       "      <td>1.0</td>\n",
       "    </tr>\n",
       "    <tr>\n",
       "      <th>59</th>\n",
       "      <td>-0.166838</td>\n",
       "      <td>-0.818182</td>\n",
       "      <td>0.0</td>\n",
       "      <td>5953.192307</td>\n",
       "      <td>-0.744872</td>\n",
       "      <td>-0.500000</td>\n",
       "      <td>0.0</td>\n",
       "      <td>1.0</td>\n",
       "      <td>0.0</td>\n",
       "      <td>0.0</td>\n",
       "      <td>1.0</td>\n",
       "    </tr>\n",
       "    <tr>\n",
       "      <th>...</th>\n",
       "      <td>...</td>\n",
       "      <td>...</td>\n",
       "      <td>...</td>\n",
       "      <td>...</td>\n",
       "      <td>...</td>\n",
       "      <td>...</td>\n",
       "      <td>...</td>\n",
       "      <td>...</td>\n",
       "      <td>...</td>\n",
       "      <td>...</td>\n",
       "      <td>...</td>\n",
       "    </tr>\n",
       "    <tr>\n",
       "      <th>84141</th>\n",
       "      <td>1.598362</td>\n",
       "      <td>-0.772727</td>\n",
       "      <td>1.0</td>\n",
       "      <td>111.996161</td>\n",
       "      <td>-0.744872</td>\n",
       "      <td>-0.833333</td>\n",
       "      <td>0.0</td>\n",
       "      <td>-0.5</td>\n",
       "      <td>0.0</td>\n",
       "      <td>0.0</td>\n",
       "      <td>0.0</td>\n",
       "    </tr>\n",
       "    <tr>\n",
       "      <th>92015</th>\n",
       "      <td>0.094167</td>\n",
       "      <td>1.045455</td>\n",
       "      <td>0.0</td>\n",
       "      <td>-0.352275</td>\n",
       "      <td>0.529487</td>\n",
       "      <td>0.166667</td>\n",
       "      <td>0.0</td>\n",
       "      <td>0.0</td>\n",
       "      <td>0.0</td>\n",
       "      <td>0.0</td>\n",
       "      <td>0.0</td>\n",
       "    </tr>\n",
       "    <tr>\n",
       "      <th>19236</th>\n",
       "      <td>-0.288767</td>\n",
       "      <td>0.090909</td>\n",
       "      <td>0.0</td>\n",
       "      <td>-0.257364</td>\n",
       "      <td>0.537179</td>\n",
       "      <td>-0.166667</td>\n",
       "      <td>0.0</td>\n",
       "      <td>0.5</td>\n",
       "      <td>0.0</td>\n",
       "      <td>2.0</td>\n",
       "      <td>0.0</td>\n",
       "    </tr>\n",
       "    <tr>\n",
       "      <th>356</th>\n",
       "      <td>0.374989</td>\n",
       "      <td>-0.272727</td>\n",
       "      <td>0.0</td>\n",
       "      <td>2624.330833</td>\n",
       "      <td>-0.744701</td>\n",
       "      <td>-0.166667</td>\n",
       "      <td>0.0</td>\n",
       "      <td>0.5</td>\n",
       "      <td>0.0</td>\n",
       "      <td>0.0</td>\n",
       "      <td>0.0</td>\n",
       "    </tr>\n",
       "    <tr>\n",
       "      <th>82951</th>\n",
       "      <td>1.199740</td>\n",
       "      <td>0.181818</td>\n",
       "      <td>0.0</td>\n",
       "      <td>2578.888087</td>\n",
       "      <td>-0.744872</td>\n",
       "      <td>0.500000</td>\n",
       "      <td>0.0</td>\n",
       "      <td>-0.5</td>\n",
       "      <td>0.0</td>\n",
       "      <td>0.0</td>\n",
       "      <td>0.0</td>\n",
       "    </tr>\n",
       "  </tbody>\n",
       "</table>\n",
       "<p>66651 rows × 11 columns</p>\n",
       "</div>"
      ],
      "text/plain": [
       "       variable_0  variable_1  variable_2   variable_3  variable_4  \\\n",
       "13       1.598362   -0.818182         0.0    -0.523490   -0.180769   \n",
       "15       1.398450   -0.681818         4.0    -0.076944   -0.061111   \n",
       "16       0.186068    0.000000         0.0  1981.640568   -0.744872   \n",
       "44       1.319824    0.454545         2.0    -0.210600    0.317692   \n",
       "59      -0.166838   -0.818182         0.0  5953.192307   -0.744872   \n",
       "...           ...         ...         ...          ...         ...   \n",
       "84141    1.598362   -0.772727         1.0   111.996161   -0.744872   \n",
       "92015    0.094167    1.045455         0.0    -0.352275    0.529487   \n",
       "19236   -0.288767    0.090909         0.0    -0.257364    0.537179   \n",
       "356      0.374989   -0.272727         0.0  2624.330833   -0.744701   \n",
       "82951    1.199740    0.181818         0.0  2578.888087   -0.744872   \n",
       "\n",
       "       variable_5  variable_6  variable_7  variable_8  variable_9  class_col  \n",
       "13      -1.333333         0.0        -0.5         0.0         4.0        1.0  \n",
       "15      -0.333333         3.0        -0.5         2.0         3.0        1.0  \n",
       "16       0.333333         0.0         0.0         0.0         0.0        1.0  \n",
       "44       0.166667         0.0        -0.5         1.0         2.0        1.0  \n",
       "59      -0.500000         0.0         1.0         0.0         0.0        1.0  \n",
       "...           ...         ...         ...         ...         ...        ...  \n",
       "84141   -0.833333         0.0        -0.5         0.0         0.0        0.0  \n",
       "92015    0.166667         0.0         0.0         0.0         0.0        0.0  \n",
       "19236   -0.166667         0.0         0.5         0.0         2.0        0.0  \n",
       "356     -0.166667         0.0         0.5         0.0         0.0        0.0  \n",
       "82951    0.500000         0.0        -0.5         0.0         0.0        0.0  \n",
       "\n",
       "[66651 rows x 11 columns]"
      ]
     },
     "execution_count": 133,
     "metadata": {},
     "output_type": "execute_result"
    }
   ],
   "source": [
    "new_dataset"
   ]
  },
  {
   "cell_type": "code",
   "execution_count": 134,
   "id": "87aabfd5",
   "metadata": {},
   "outputs": [
    {
     "data": {
      "text/html": [
       "<div>\n",
       "<style scoped>\n",
       "    .dataframe tbody tr th:only-of-type {\n",
       "        vertical-align: middle;\n",
       "    }\n",
       "\n",
       "    .dataframe tbody tr th {\n",
       "        vertical-align: top;\n",
       "    }\n",
       "\n",
       "    .dataframe thead th {\n",
       "        text-align: right;\n",
       "    }\n",
       "</style>\n",
       "<table border=\"1\" class=\"dataframe\">\n",
       "  <thead>\n",
       "    <tr style=\"text-align: right;\">\n",
       "      <th></th>\n",
       "      <th>variable_0</th>\n",
       "      <th>variable_1</th>\n",
       "      <th>variable_2</th>\n",
       "      <th>variable_3</th>\n",
       "      <th>variable_4</th>\n",
       "      <th>variable_5</th>\n",
       "      <th>variable_6</th>\n",
       "      <th>variable_7</th>\n",
       "      <th>variable_8</th>\n",
       "      <th>variable_9</th>\n",
       "      <th>class_col</th>\n",
       "    </tr>\n",
       "  </thead>\n",
       "  <tbody>\n",
       "    <tr>\n",
       "      <th>13</th>\n",
       "      <td>1.598362</td>\n",
       "      <td>-0.818182</td>\n",
       "      <td>0.0</td>\n",
       "      <td>-0.523490</td>\n",
       "      <td>-0.180769</td>\n",
       "      <td>-1.333333</td>\n",
       "      <td>0.0</td>\n",
       "      <td>-0.5</td>\n",
       "      <td>0.0</td>\n",
       "      <td>4.0</td>\n",
       "      <td>1.0</td>\n",
       "    </tr>\n",
       "    <tr>\n",
       "      <th>15</th>\n",
       "      <td>1.398450</td>\n",
       "      <td>-0.681818</td>\n",
       "      <td>4.0</td>\n",
       "      <td>-0.076944</td>\n",
       "      <td>-0.061111</td>\n",
       "      <td>-0.333333</td>\n",
       "      <td>3.0</td>\n",
       "      <td>-0.5</td>\n",
       "      <td>2.0</td>\n",
       "      <td>3.0</td>\n",
       "      <td>1.0</td>\n",
       "    </tr>\n",
       "    <tr>\n",
       "      <th>16</th>\n",
       "      <td>0.186068</td>\n",
       "      <td>0.000000</td>\n",
       "      <td>0.0</td>\n",
       "      <td>1981.640568</td>\n",
       "      <td>-0.744872</td>\n",
       "      <td>0.333333</td>\n",
       "      <td>0.0</td>\n",
       "      <td>0.0</td>\n",
       "      <td>0.0</td>\n",
       "      <td>0.0</td>\n",
       "      <td>1.0</td>\n",
       "    </tr>\n",
       "    <tr>\n",
       "      <th>44</th>\n",
       "      <td>1.319824</td>\n",
       "      <td>0.454545</td>\n",
       "      <td>2.0</td>\n",
       "      <td>-0.210600</td>\n",
       "      <td>0.317692</td>\n",
       "      <td>0.166667</td>\n",
       "      <td>0.0</td>\n",
       "      <td>-0.5</td>\n",
       "      <td>1.0</td>\n",
       "      <td>2.0</td>\n",
       "      <td>1.0</td>\n",
       "    </tr>\n",
       "    <tr>\n",
       "      <th>59</th>\n",
       "      <td>-0.166838</td>\n",
       "      <td>-0.818182</td>\n",
       "      <td>0.0</td>\n",
       "      <td>5953.192307</td>\n",
       "      <td>-0.744872</td>\n",
       "      <td>-0.500000</td>\n",
       "      <td>0.0</td>\n",
       "      <td>1.0</td>\n",
       "      <td>0.0</td>\n",
       "      <td>0.0</td>\n",
       "      <td>1.0</td>\n",
       "    </tr>\n",
       "  </tbody>\n",
       "</table>\n",
       "</div>"
      ],
      "text/plain": [
       "    variable_0  variable_1  variable_2   variable_3  variable_4  variable_5  \\\n",
       "13    1.598362   -0.818182         0.0    -0.523490   -0.180769   -1.333333   \n",
       "15    1.398450   -0.681818         4.0    -0.076944   -0.061111   -0.333333   \n",
       "16    0.186068    0.000000         0.0  1981.640568   -0.744872    0.333333   \n",
       "44    1.319824    0.454545         2.0    -0.210600    0.317692    0.166667   \n",
       "59   -0.166838   -0.818182         0.0  5953.192307   -0.744872   -0.500000   \n",
       "\n",
       "    variable_6  variable_7  variable_8  variable_9  class_col  \n",
       "13         0.0        -0.5         0.0         4.0        1.0  \n",
       "15         3.0        -0.5         2.0         3.0        1.0  \n",
       "16         0.0         0.0         0.0         0.0        1.0  \n",
       "44         0.0        -0.5         1.0         2.0        1.0  \n",
       "59         0.0         1.0         0.0         0.0        1.0  "
      ]
     },
     "execution_count": 134,
     "metadata": {},
     "output_type": "execute_result"
    }
   ],
   "source": [
    "new_dataset.head()"
   ]
  },
  {
   "cell_type": "code",
   "execution_count": 135,
   "id": "3a9d7845",
   "metadata": {},
   "outputs": [
    {
     "data": {
      "text/html": [
       "<div>\n",
       "<style scoped>\n",
       "    .dataframe tbody tr th:only-of-type {\n",
       "        vertical-align: middle;\n",
       "    }\n",
       "\n",
       "    .dataframe tbody tr th {\n",
       "        vertical-align: top;\n",
       "    }\n",
       "\n",
       "    .dataframe thead th {\n",
       "        text-align: right;\n",
       "    }\n",
       "</style>\n",
       "<table border=\"1\" class=\"dataframe\">\n",
       "  <thead>\n",
       "    <tr style=\"text-align: right;\">\n",
       "      <th></th>\n",
       "      <th>variable_0</th>\n",
       "      <th>variable_1</th>\n",
       "      <th>variable_2</th>\n",
       "      <th>variable_3</th>\n",
       "      <th>variable_4</th>\n",
       "      <th>variable_5</th>\n",
       "      <th>variable_6</th>\n",
       "      <th>variable_7</th>\n",
       "      <th>variable_8</th>\n",
       "      <th>variable_9</th>\n",
       "      <th>class_col</th>\n",
       "    </tr>\n",
       "  </thead>\n",
       "  <tbody>\n",
       "    <tr>\n",
       "      <th>84141</th>\n",
       "      <td>1.598362</td>\n",
       "      <td>-0.772727</td>\n",
       "      <td>1.0</td>\n",
       "      <td>111.996161</td>\n",
       "      <td>-0.744872</td>\n",
       "      <td>-0.833333</td>\n",
       "      <td>0.0</td>\n",
       "      <td>-0.5</td>\n",
       "      <td>0.0</td>\n",
       "      <td>0.0</td>\n",
       "      <td>0.0</td>\n",
       "    </tr>\n",
       "    <tr>\n",
       "      <th>92015</th>\n",
       "      <td>0.094167</td>\n",
       "      <td>1.045455</td>\n",
       "      <td>0.0</td>\n",
       "      <td>-0.352275</td>\n",
       "      <td>0.529487</td>\n",
       "      <td>0.166667</td>\n",
       "      <td>0.0</td>\n",
       "      <td>0.0</td>\n",
       "      <td>0.0</td>\n",
       "      <td>0.0</td>\n",
       "      <td>0.0</td>\n",
       "    </tr>\n",
       "    <tr>\n",
       "      <th>19236</th>\n",
       "      <td>-0.288767</td>\n",
       "      <td>0.090909</td>\n",
       "      <td>0.0</td>\n",
       "      <td>-0.257364</td>\n",
       "      <td>0.537179</td>\n",
       "      <td>-0.166667</td>\n",
       "      <td>0.0</td>\n",
       "      <td>0.5</td>\n",
       "      <td>0.0</td>\n",
       "      <td>2.0</td>\n",
       "      <td>0.0</td>\n",
       "    </tr>\n",
       "    <tr>\n",
       "      <th>356</th>\n",
       "      <td>0.374989</td>\n",
       "      <td>-0.272727</td>\n",
       "      <td>0.0</td>\n",
       "      <td>2624.330833</td>\n",
       "      <td>-0.744701</td>\n",
       "      <td>-0.166667</td>\n",
       "      <td>0.0</td>\n",
       "      <td>0.5</td>\n",
       "      <td>0.0</td>\n",
       "      <td>0.0</td>\n",
       "      <td>0.0</td>\n",
       "    </tr>\n",
       "    <tr>\n",
       "      <th>82951</th>\n",
       "      <td>1.199740</td>\n",
       "      <td>0.181818</td>\n",
       "      <td>0.0</td>\n",
       "      <td>2578.888087</td>\n",
       "      <td>-0.744872</td>\n",
       "      <td>0.500000</td>\n",
       "      <td>0.0</td>\n",
       "      <td>-0.5</td>\n",
       "      <td>0.0</td>\n",
       "      <td>0.0</td>\n",
       "      <td>0.0</td>\n",
       "    </tr>\n",
       "  </tbody>\n",
       "</table>\n",
       "</div>"
      ],
      "text/plain": [
       "       variable_0  variable_1  variable_2   variable_3  variable_4  \\\n",
       "84141    1.598362   -0.772727         1.0   111.996161   -0.744872   \n",
       "92015    0.094167    1.045455         0.0    -0.352275    0.529487   \n",
       "19236   -0.288767    0.090909         0.0    -0.257364    0.537179   \n",
       "356      0.374989   -0.272727         0.0  2624.330833   -0.744701   \n",
       "82951    1.199740    0.181818         0.0  2578.888087   -0.744872   \n",
       "\n",
       "       variable_5  variable_6  variable_7  variable_8  variable_9  class_col  \n",
       "84141   -0.833333         0.0        -0.5         0.0         0.0        0.0  \n",
       "92015    0.166667         0.0         0.0         0.0         0.0        0.0  \n",
       "19236   -0.166667         0.0         0.5         0.0         2.0        0.0  \n",
       "356     -0.166667         0.0         0.5         0.0         0.0        0.0  \n",
       "82951    0.500000         0.0        -0.5         0.0         0.0        0.0  "
      ]
     },
     "execution_count": 135,
     "metadata": {},
     "output_type": "execute_result"
    }
   ],
   "source": [
    "new_dataset.tail()"
   ]
  },
  {
   "cell_type": "code",
   "execution_count": 136,
   "id": "cb9dd3e4",
   "metadata": {},
   "outputs": [
    {
     "data": {
      "text/plain": [
       "array([[ 1.59836175, -0.81818182,  0.        , ..., -0.5       ,\n",
       "         0.        ,  4.        ],\n",
       "       [ 1.39844983, -0.68181818,  4.        , ..., -0.5       ,\n",
       "         2.        ,  3.        ],\n",
       "       [ 0.18606751,  0.        ,  0.        , ...,  0.        ,\n",
       "         0.        ,  0.        ],\n",
       "       ...,\n",
       "       [-0.28876667,  0.09090909,  0.        , ...,  0.5       ,\n",
       "         0.        ,  2.        ],\n",
       "       [ 0.37498896, -0.27272727,  0.        , ...,  0.5       ,\n",
       "         0.        ,  0.        ],\n",
       "       [ 1.1997399 ,  0.18181818,  0.        , ..., -0.5       ,\n",
       "         0.        ,  0.        ]])"
      ]
     },
     "execution_count": 136,
     "metadata": {},
     "output_type": "execute_result"
    }
   ],
   "source": [
    "X = new_dataset.iloc[:, :-1].values\n",
    "X"
   ]
  },
  {
   "cell_type": "code",
   "execution_count": 137,
   "id": "3a74b5bf",
   "metadata": {},
   "outputs": [
    {
     "data": {
      "text/plain": [
       "array([1., 1., 1., ..., 0., 0., 0.])"
      ]
     },
     "execution_count": 137,
     "metadata": {},
     "output_type": "execute_result"
    }
   ],
   "source": [
    "Y = new_dataset.iloc[:, -1].values\n",
    "Y"
   ]
  },
  {
   "cell_type": "code",
   "execution_count": 138,
   "id": "97a52dbf",
   "metadata": {},
   "outputs": [],
   "source": [
    "X_train, X_test, Y_train, Y_test = train_test_split(X, Y, test_size=0.2, stratify=Y, random_state=2)"
   ]
  },
  {
   "cell_type": "code",
   "execution_count": 139,
   "id": "496a85d4",
   "metadata": {},
   "outputs": [
    {
     "name": "stdout",
     "output_type": "stream",
     "text": [
      "(66651, 10) (53320, 10) (13331, 10)\n"
     ]
    }
   ],
   "source": [
    "print(X.shape, X_train.shape, X_test.shape)"
   ]
  },
  {
   "cell_type": "code",
   "execution_count": 140,
   "id": "17490135",
   "metadata": {},
   "outputs": [],
   "source": [
    "\n",
    "model = LogisticRegression(max_iter=450)"
   ]
  },
  {
   "cell_type": "code",
   "execution_count": 141,
   "id": "8e25b6e1",
   "metadata": {},
   "outputs": [
    {
     "data": {
      "text/plain": [
       "LogisticRegression(max_iter=450)"
      ]
     },
     "execution_count": 141,
     "metadata": {},
     "output_type": "execute_result"
    }
   ],
   "source": [
    "model.fit(X_train, Y_train)"
   ]
  },
  {
   "cell_type": "code",
   "execution_count": 142,
   "id": "81a80a55",
   "metadata": {},
   "outputs": [],
   "source": [
    "# accuracy on training data\n",
    "Y_pred = model.predict(X_test)"
   ]
  },
  {
   "cell_type": "code",
   "execution_count": 143,
   "id": "cf33952f",
   "metadata": {},
   "outputs": [
    {
     "name": "stdout",
     "output_type": "stream",
     "text": [
      "Confusion Matrix: \n",
      "[[11959    42]\n",
      " [ 1246    84]]\n",
      "Accuracy of the Model: 90.33830920411073%\n"
     ]
    }
   ],
   "source": [
    "from sklearn.metrics import confusion_matrix, accuracy_score\n",
    "cm = confusion_matrix(Y_test, Y_pred )\n",
    "\n",
    "print(\"Confusion Matrix: \")\n",
    "print(cm)\n",
    "\n",
    "print(\"Accuracy of the Model: {0}%\".format(accuracy_score(Y_test, Y_pred)*100))"
   ]
  },
  {
   "cell_type": "code",
   "execution_count": 144,
   "id": "c304742c",
   "metadata": {},
   "outputs": [],
   "source": [
    "test_data=pd.read_csv(\"Eval.csv\")\n",
    "X_new = test_data.iloc[:,:].values"
   ]
  },
  {
   "cell_type": "code",
   "execution_count": 145,
   "id": "e6a1c331",
   "metadata": {},
   "outputs": [
    {
     "name": "stdout",
     "output_type": "stream",
     "text": [
      "[0. 0. 0. ... 0. 0. 0.]\n"
     ]
    }
   ],
   "source": [
    "Y_new=model.predict(X_new)\n",
    "print(Y_new)"
   ]
  },
  {
   "cell_type": "code",
   "execution_count": 146,
   "id": "85654a13",
   "metadata": {},
   "outputs": [],
   "source": [
    "num_ones = np.count_nonzero(Y_new)\n",
    "num_zeros = len(Y_new)-num_ones"
   ]
  },
  {
   "cell_type": "code",
   "execution_count": 147,
   "id": "e3b79eb8",
   "metadata": {},
   "outputs": [
    {
     "name": "stdout",
     "output_type": "stream",
     "text": [
      "No-of zeros= 49655\n",
      "No-of ones =  345\n"
     ]
    }
   ],
   "source": [
    "print(\"No-of zeros=\", num_zeros)\n",
    "print(\"No-of ones = \", num_ones)"
   ]
  },
  {
   "cell_type": "code",
   "execution_count": null,
   "id": "33455da1",
   "metadata": {},
   "outputs": [],
   "source": []
  }
 ],
 "metadata": {
  "kernelspec": {
   "display_name": "Python 3 (ipykernel)",
   "language": "python",
   "name": "python3"
  },
  "language_info": {
   "codemirror_mode": {
    "name": "ipython",
    "version": 3
   },
   "file_extension": ".py",
   "mimetype": "text/x-python",
   "name": "python",
   "nbconvert_exporter": "python",
   "pygments_lexer": "ipython3",
   "version": "3.9.13"
  }
 },
 "nbformat": 4,
 "nbformat_minor": 5
}
